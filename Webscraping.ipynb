{
 "cells": [
  {
   "cell_type": "code",
   "execution_count": 1,
   "id": "89653840",
   "metadata": {},
   "outputs": [
    {
     "name": "stdout",
     "output_type": "stream",
     "text": [
      "Data has been successfully extracted and saved to Watches_Men_Details.xlsx\n"
     ]
    }
   ],
   "source": [
    "import requests\n",
    "from bs4 import BeautifulSoup\n",
    "import csv\n",
    "import pandas as pd\n",
    "\n",
    "file_path = 'Watches_Men.txt'\n",
    "with open(file_path, 'r') as file:\n",
    "    urls = file.read().splitlines()\n",
    "\n",
    "product_details = []\n",
    "for url in urls:\n",
    "    response = requests.get(url)\n",
    "    if response.status_code == 200:\n",
    "        soup = BeautifulSoup(response.text, 'html.parser')\n",
    "\n",
    "        name_element = soup.find('span', {'class': 'B_NuCI'})\n",
    "        price_element = soup.find('div', {'class': '_30jeq3 _16Jk6d'})\n",
    "\n",
    "        if name_element and price_element:\n",
    "            name = name_element.text.strip()\n",
    "            price = price_element.text.strip()\n",
    "            product_details.append((name, price))\n",
    "\n",
    "excel_file_path = 'Watches_Men_Details.xlsx'\n",
    "df = pd.DataFrame(product_details, columns=['Product Name', 'Price'])\n",
    "df.to_excel(excel_file_path, index=False)\n",
    "\n",
    "print(f'Data has been successfully extracted and saved to {excel_file_path}')\n"
   ]
  },
  {
   "cell_type": "code",
   "execution_count": null,
   "id": "78049d5b",
   "metadata": {},
   "outputs": [],
   "source": []
  },
  {
   "cell_type": "code",
   "execution_count": null,
   "id": "be0ac766",
   "metadata": {},
   "outputs": [],
   "source": []
  }
 ],
 "metadata": {
  "kernelspec": {
   "display_name": "Python 3 (ipykernel)",
   "language": "python",
   "name": "python3"
  },
  "language_info": {
   "codemirror_mode": {
    "name": "ipython",
    "version": 3
   },
   "file_extension": ".py",
   "mimetype": "text/x-python",
   "name": "python",
   "nbconvert_exporter": "python",
   "pygments_lexer": "ipython3",
   "version": "3.11.4"
  }
 },
 "nbformat": 4,
 "nbformat_minor": 5
}
